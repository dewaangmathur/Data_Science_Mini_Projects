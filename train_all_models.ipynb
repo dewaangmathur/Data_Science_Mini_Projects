{
 "cells": [
  {
   "cell_type": "code",
   "execution_count": 2,
   "id": "9db76070",
   "metadata": {},
   "outputs": [],
   "source": [
    "import pandas as pd\n",
    "import numpy as np\n",
    "from sklearn.model_selection import train_test_split\n",
    "from sklearn.preprocessing import LabelEncoder, StandardScaler\n",
    "from sklearn.linear_model import LogisticRegression, LinearRegression\n",
    "from sklearn.ensemble import RandomForestClassifier, RandomForestRegressor\n",
    "from sklearn.tree import DecisionTreeClassifier\n",
    "from sklearn.metrics import accuracy_score, classification_report, mean_squared_error\n",
    "import joblib\n",
    "import os"
   ]
  },
  {
   "cell_type": "markdown",
   "id": "39f2ce8e",
   "metadata": {},
   "source": [
    "TITANIC DATASET"
   ]
  },
  {
   "cell_type": "code",
   "execution_count": 4,
   "id": "006672a8",
   "metadata": {},
   "outputs": [
    {
     "data": {
      "text/plain": [
       "['ml_models/titanic_model.pkl']"
      ]
     },
     "execution_count": 4,
     "metadata": {},
     "output_type": "execute_result"
    }
   ],
   "source": [
    "# Load dataset\n",
    "titanic = pd.read_csv(\"titanic.csv\")\n",
    "\n",
    "# Preprocessing\n",
    "titanic = titanic[['Pclass', 'Age', 'SibSp', 'Fare', 'Sex', 'Survived']]\n",
    "titanic.dropna(inplace=True)\n",
    "\n",
    "# Encode 'Sex'\n",
    "titanic['Sex'] = titanic['Sex'].map({'male': 1, 'female': 0})\n",
    "\n",
    "X = titanic.drop(\"Survived\", axis=1)\n",
    "y = titanic['Survived']\n",
    "\n",
    "# Split data\n",
    "X_train, X_test, y_train, y_test = train_test_split(X, y, test_size=0.2, random_state=42)\n",
    "\n",
    "# Train model\n",
    "clf = LogisticRegression()\n",
    "clf.fit(X_train, y_train)\n",
    "\n",
    "# Save model\n",
    "joblib.dump(clf, \"ml_models/titanic_model.pkl\")\n"
   ]
  },
  {
   "cell_type": "markdown",
   "id": "3edf9d01",
   "metadata": {},
   "source": [
    "INDIAN MOVIE DATASET"
   ]
  },
  {
   "cell_type": "code",
   "execution_count": 5,
   "id": "e0083e9b",
   "metadata": {},
   "outputs": [
    {
     "data": {
      "text/plain": [
       "['ml_models/movie_model.pkl']"
      ]
     },
     "execution_count": 5,
     "metadata": {},
     "output_type": "execute_result"
    }
   ],
   "source": [
    "# Load dataset with correct encoding\n",
    "import pandas as pd\n",
    "from sklearn.model_selection import train_test_split\n",
    "from sklearn.preprocessing import LabelEncoder\n",
    "from sklearn.ensemble import RandomForestRegressor\n",
    "import joblib\n",
    "\n",
    "# Read CSV\n",
    "movie = pd.read_csv(\"imdb_indian_movies.csv\", encoding='latin1')\n",
    "\n",
    "# Select relevant columns\n",
    "movie = movie[['Genre', 'Director', 'Actor 1', 'Rating']].dropna()\n",
    "\n",
    "# Encode categorical columns\n",
    "le = LabelEncoder()\n",
    "for col in ['Genre', 'Director', 'Actor 1']:\n",
    "    movie[col] = le.fit_transform(movie[col])\n",
    "\n",
    "# Features and target\n",
    "X = movie[['Genre', 'Director', 'Actor 1']]\n",
    "y = movie['Rating']\n",
    "\n",
    "# Split and train\n",
    "X_train, X_test, y_train, y_test = train_test_split(X, y, test_size=0.2, random_state=42)\n",
    "\n",
    "model = RandomForestRegressor()\n",
    "model.fit(X_train, y_train)\n",
    "\n",
    "# Save model\n",
    "joblib.dump(model, \"ml_models/movie_model.pkl\")\n"
   ]
  },
  {
   "cell_type": "markdown",
   "id": "15270d9a",
   "metadata": {},
   "source": [
    "IRIS DATASET"
   ]
  },
  {
   "cell_type": "code",
   "execution_count": 6,
   "id": "5575f226",
   "metadata": {},
   "outputs": [
    {
     "data": {
      "text/plain": [
       "['ml_models/iris_model.pkl']"
      ]
     },
     "execution_count": 6,
     "metadata": {},
     "output_type": "execute_result"
    }
   ],
   "source": [
    "# Load dataset\n",
    "iris = pd.read_csv(\"iris.csv\")  # use this instead of sklearn load_iris for full preprocessing flexibility\n",
    "\n",
    "X = iris.drop(\"species\", axis=1)\n",
    "y = iris[\"species\"]\n",
    "\n",
    "# Encode target\n",
    "le = LabelEncoder()\n",
    "y = le.fit_transform(y)\n",
    "\n",
    "# Split and train\n",
    "X_train, X_test, y_train, y_test = train_test_split(X, y, test_size=0.2, random_state=42)\n",
    "\n",
    "model = DecisionTreeClassifier()\n",
    "model.fit(X_train, y_train)\n",
    "\n",
    "joblib.dump(model, \"ml_models/iris_model.pkl\")\n"
   ]
  },
  {
   "cell_type": "markdown",
   "id": "9427254d",
   "metadata": {},
   "source": [
    "SALES DATASET"
   ]
  },
  {
   "cell_type": "code",
   "execution_count": 7,
   "id": "f24833b4",
   "metadata": {},
   "outputs": [
    {
     "data": {
      "text/plain": [
       "['ml_models/sales_model.pkl']"
      ]
     },
     "execution_count": 7,
     "metadata": {},
     "output_type": "execute_result"
    }
   ],
   "source": [
    "# Load dataset\n",
    "sales = pd.read_csv(\"advertising.csv\")  # filename corrected\n",
    "\n",
    "X = sales[['TV', 'Radio', 'Newspaper']]\n",
    "y = sales['Sales']\n",
    "\n",
    "X_train, X_test, y_train, y_test = train_test_split(X, y, test_size=0.2, random_state=42)\n",
    "\n",
    "model = LinearRegression()\n",
    "model.fit(X_train, y_train)\n",
    "\n",
    "joblib.dump(model, \"ml_models/sales_model.pkl\")\n"
   ]
  },
  {
   "cell_type": "markdown",
   "id": "325e5e5c",
   "metadata": {},
   "source": [
    "FRAUD_APP DATASET"
   ]
  },
  {
   "cell_type": "code",
   "execution_count": 11,
   "id": "d6892cef",
   "metadata": {},
   "outputs": [
    {
     "data": {
      "text/plain": [
       "['ml_models/fraud_model_with_avg.pkl']"
      ]
     },
     "execution_count": 11,
     "metadata": {},
     "output_type": "execute_result"
    }
   ],
   "source": [
    "import pandas as pd\n",
    "from sklearn.model_selection import train_test_split\n",
    "from sklearn.ensemble import RandomForestClassifier\n",
    "import joblib\n",
    "\n",
    "# Load dataset\n",
    "fraud = pd.read_csv(\"creditcard.csv\")\n",
    "\n",
    "# Add Averaged_V feature (mean of V1 to V28)\n",
    "v_cols = [f'V{i}' for i in range(1, 29)]\n",
    "fraud['Averaged_V'] = fraud[v_cols].mean(axis=1)\n",
    "\n",
    "# Undersample majority class\n",
    "fraud_0 = fraud[fraud['Class'] == 0].sample(10000, random_state=42)\n",
    "fraud_1 = fraud[fraud['Class'] == 1]\n",
    "balanced = pd.concat([fraud_0, fraud_1])\n",
    "\n",
    "X = balanced.drop('Class', axis=1)\n",
    "y = balanced['Class']\n",
    "\n",
    "# Train-test split\n",
    "X_train, X_test, y_train, y_test = train_test_split(X, y, test_size=0.2, random_state=42)\n",
    "\n",
    "# Train model\n",
    "model = RandomForestClassifier()\n",
    "model.fit(X_train, y_train)\n",
    "\n",
    "# Save model\n",
    "joblib.dump(model, \"ml_models/fraud_model_with_avg.pkl\")\n"
   ]
  },
  {
   "cell_type": "markdown",
   "id": "97e29afd",
   "metadata": {},
   "source": [
    "imdb columns"
   ]
  },
  {
   "cell_type": "code",
   "execution_count": 9,
   "id": "883527a8",
   "metadata": {},
   "outputs": [
    {
     "name": "stdout",
     "output_type": "stream",
     "text": [
      "['Name', 'Year', 'Duration', 'Genre', 'Rating', 'Votes', 'Director', 'Actor 1', 'Actor 2', 'Actor 3']\n"
     ]
    }
   ],
   "source": [
    "import pandas as pd\n",
    "\n",
    "df = pd.read_csv(\"imdb_indian_movies.csv\", encoding='latin1')\n",
    "print(df.columns.tolist())\n"
   ]
  }
 ],
 "metadata": {
  "kernelspec": {
   "display_name": "venv",
   "language": "python",
   "name": "python3"
  },
  "language_info": {
   "codemirror_mode": {
    "name": "ipython",
    "version": 3
   },
   "file_extension": ".py",
   "mimetype": "text/x-python",
   "name": "python",
   "nbconvert_exporter": "python",
   "pygments_lexer": "ipython3",
   "version": "3.13.5"
  }
 },
 "nbformat": 4,
 "nbformat_minor": 5
}
